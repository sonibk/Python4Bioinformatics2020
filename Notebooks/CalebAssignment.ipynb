{
 "cells": [
  {
   "cell_type": "markdown",
   "metadata": {},
   "source": [
    "## QN1: Calculate the % GC and % AT content in the trna sequence"
   ]
  },
  {
   "cell_type": "code",
   "execution_count": 1,
   "metadata": {},
   "outputs": [
    {
     "name": "stdout",
     "output_type": "stream",
     "text": [
      "GC content = 46.808510638297875 and the AT content = 53.191489361702125\n"
     ]
    }
   ],
   "source": [
    "def AT_GC_content(tRNA):\n",
    "    GC = ((tRNA.count('C') + tRNA.count('G'))/len(tRNA))*100\n",
    "    AT = 100 - GC\n",
    "    return print('GC content = ' + str(GC) + ' and the AT content = ' + str(AT))\n",
    "AT_GC_content('AAAAATCCCGAGGCGGCTATATAGGGCTCCGGAGGCGTAATATAAAA')"
   ]
  },
  {
   "cell_type": "markdown",
   "metadata": {},
   "source": [
    "## QN2: Given the following amino acid sequence (MNKMDLVADVAEKTDLSKAKATEVIDAVFA), find the first, last and the 5th amino acids in the sequence"
   ]
  },
  {
   "cell_type": "code",
   "execution_count": 2,
   "metadata": {},
   "outputs": [
    {
     "name": "stdout",
     "output_type": "stream",
     "text": [
      "MDA\n"
     ]
    }
   ],
   "source": [
    "def pos_seq(seq):\n",
    "    pos = print(seq[0] + seq[4] + seq[-1])\n",
    "    return pos\n",
    "pos_seq('MNKMDLVADVAEKTDLSKAKATEVIDAVFA')"
   ]
  },
  {
   "cell_type": "markdown",
   "metadata": {},
   "source": [
    "## QN3: The above amino acid is a bacterial restriction enzyme that recognizes \"TCCGGA\". Find the first restriction site in the following sequence: AAAAATCCCGAGGCGGCTATATAGGGCTCCGGAGGCGTAATATAAAA"
   ]
  },
  {
   "cell_type": "code",
   "execution_count": 3,
   "metadata": {},
   "outputs": [],
   "source": [
    "def first_rest(dna,pattern):\n",
    "    pos = dna.find(pattern)\n",
    "    if  pos == -1:\n",
    "        return print('substring not found')\n",
    "    else:\n",
    "        return print('The pattern is between index ' + str(pos)+ ' : ' + str(pos+len(pattern)))\n",
    "    \n"
   ]
  },
  {
   "cell_type": "code",
   "execution_count": 4,
   "metadata": {},
   "outputs": [
    {
     "name": "stdout",
     "output_type": "stream",
     "text": [
      "The pattern is between index 27 : 33\n"
     ]
    }
   ],
   "source": [
    "sample_dna = 'AAAAATCCCGAGGCGGCTATATAGGGCTCCGGAGGCGTAATATAAAA'\n",
    "sample_pattern = 'TCCGGA'\n",
    "first_rest(sample_dna,sample_pattern)\n"
   ]
  },
  {
   "cell_type": "markdown",
   "metadata": {},
   "source": [
    "## QN4: Using strings, lists, tuples and dictionaries concepts, find the reverse complement of AAAAATCCCGAGGCGGCTATATAGGGCTCCGGAGGCGTAATATAAAA"
   ]
  },
  {
   "cell_type": "code",
   "execution_count": 5,
   "metadata": {},
   "outputs": [
    {
     "data": {
      "text/plain": [
       "'TTTTATATTACGCCTCCGGAGCCCTATATAGCCGCCTCGGGATTTTT'"
      ]
     },
     "execution_count": 5,
     "metadata": {},
     "output_type": "execute_result"
    }
   ],
   "source": [
    "dnaseq= \"AAAAATCCCGAGGCGGCTATATAGGGCTCCGGAGGCGTAATATAAAA\"\n",
    "def rev_comp(dna):\n",
    "    mycomp1=dna.replace('A','t')\n",
    "    mycomp2=mycomp1.replace('T','a')\n",
    "    mycomp3=mycomp2.replace('G','c')\n",
    "    mycomp4=mycomp3.replace('C','g')\n",
    "    mycomp5=mycomp4.upper() \n",
    "    reverse = mycomp5[::-1]\n",
    "    return reverse\n",
    "rev_comp(dnaseq)"
   ]
  },
  {
   "cell_type": "markdown",
   "metadata": {},
   "source": [
    "## QN5: Write a program to manage bank withdrawals at the ATM. Expand the script in the previous cell to also manage ATM deposits"
   ]
  },
  {
   "cell_type": "code",
   "execution_count": null,
   "metadata": {},
   "outputs": [],
   "source": [
    "def ATMCHECK(pin):\n",
    "    acountbal = 50000\n",
    "    choice = input(\"Please enter 'b' to check balance or 'w' to withdraw or 'd' to deposit: \")\n",
    "    while choice != 'q':\n",
    "        if choice.lower() in ('w','b','d'):\n",
    "            if choice.lower() == 'b':\n",
    "                print(\"Your balance is: %d\" % acountbal)\n",
    "                print(\"Anything else?\")\n",
    "                choice = input(\"Enter b for balance, w to withdraw or q to quit: \")\n",
    "                print(choice.lower())\n",
    "            elif choice.lower() == 'd':\n",
    "                deposit = float(input('please enter the amount you want to deposit: '))\n",
    "                acountbal = acountbal + deposit\n",
    "                print(choice.lower())\n",
    "                print(\"Anything else?\")\n",
    "                choice = input(\"Enter b for balance, w to withdraw or q to quit: \")\n",
    "                print(choice.lower())\n",
    "            else:\n",
    "                withdraw = float(input(\"Enter amount to withdraw: \"))\n",
    "                if withdraw <= acountbal:\n",
    "                    print(\"here is your: %.2f\" % withdraw)\n",
    "                    acountbal = acountbal - withdraw\n",
    "                    print(\"Anything else?\")\n",
    "                    choice = input(\"Enter b for balance, w to withdraw or q to quit: \")\n",
    "                    #choice = 'q'\n",
    "                else:\n",
    "                    print(\"You have insufficient funds: %.2f\" % acountbal)\n",
    "        else:\n",
    "            print('wrong choice')\n",
    "            choice = input(\"Please enter 'b' to check balance or 'w' to withdraw: \")\n",
    "            return acountbal\n",
    "\n",
    "ATMCHECK(7878)"
   ]
  },
  {
   "cell_type": "code",
   "execution_count": null,
   "metadata": {},
   "outputs": [],
   "source": []
  },
  {
   "cell_type": "markdown",
   "metadata": {},
   "source": [
    "## QN7: Create a while loop that starts with x = 0 and increments x until x is equal to 5. Each iteration should print to the console."
   ]
  },
  {
   "cell_type": "code",
   "execution_count": null,
   "metadata": {},
   "outputs": [],
   "source": [
    "def print5num(num):\n",
    "    i = 0\n",
    "    while i < num:\n",
    "        i = i+1\n",
    "        return (i\n",
    "print5num(5)\n",
    "        "
   ]
  },
  {
   "cell_type": "markdown",
   "metadata": {},
   "source": [
    "## QN8: Repeat the previous problem, but the loop will skip printing x = 5 to the console but will print values of x from 6 to 10."
   ]
  },
  {
   "cell_type": "code",
   "execution_count": 7,
   "metadata": {},
   "outputs": [
    {
     "name": "stdout",
     "output_type": "stream",
     "text": [
      "1\n",
      "2\n",
      "3\n",
      "4\n",
      "6\n",
      "7\n",
      "8\n",
      "9\n",
      "10\n"
     ]
    }
   ],
   "source": [
    "def print_num2(num):\n",
    "    i = 0\n",
    "    while i < num:\n",
    "        i = i+1\n",
    "        if i == 5:\n",
    "            continue\n",
    "        print(i)\n",
    "print_num2(10)\n",
    "        "
   ]
  },
  {
   "cell_type": "markdown",
   "metadata": {},
   "source": [
    "## QN9: Create a for loop that prints values from 4 to 10 to the console."
   ]
  },
  {
   "cell_type": "code",
   "execution_count": 8,
   "metadata": {},
   "outputs": [
    {
     "name": "stdout",
     "output_type": "stream",
     "text": [
      "4\n",
      "5\n",
      "6\n",
      "7\n",
      "8\n",
      "9\n",
      "10\n"
     ]
    }
   ],
   "source": [
    "def print_num(num):\n",
    "    i = 0\n",
    "    for i in range(3,num):     \n",
    "        i = i+1\n",
    "        print(i)\n",
    "print_num(10)\n",
    "        "
   ]
  },
  {
   "cell_type": "markdown",
   "metadata": {},
   "source": [
    "# QN10: Write a function percentageGC that calculates the GC content of a DNA sequence\n",
    "The function should return the %GC content The Function should return a message if the provided sequence is not DNA (This should be checked by a different function, called by your function)"
   ]
  },
  {
   "cell_type": "code",
   "execution_count": 126,
   "metadata": {},
   "outputs": [],
   "source": [
    "mydna = \"CAGTGATGATGACGAT\"\n",
    "yourdna = \"ACGATCGAGACGTAGTA\"\n",
    "testdna = \"ATFRACGATTGHAHYAK\""
   ]
  },
  {
   "cell_type": "code",
   "execution_count": 127,
   "metadata": {},
   "outputs": [
    {
     "name": "stdout",
     "output_type": "stream",
     "text": [
      "Valid\n"
     ]
    }
   ],
   "source": [
    "def VALIDITY(dna): \n",
    "    nucleotide = {'A', 'C', 'G', 'T'} #valid bases\n",
    "    myseq = set(mydna)\n",
    "    if myseq == nucleotide:\n",
    "        print(\"Valid\")    \n",
    "    else:\n",
    "        print(\"invalid, The program can't calculate PerGC\")\n",
    "VALIDITY(mydna)"
   ]
  },
  {
   "cell_type": "code",
   "execution_count": 133,
   "metadata": {},
   "outputs": [],
   "source": [
    "def percentageGC(dna):\n",
    "    GC = (dna.count('C') + dna.count('G'))/len(dna)*100\n",
    "    print(\"The percentage GC is\",GC)\n",
    "    return GC"
   ]
  },
  {
   "cell_type": "code",
   "execution_count": 134,
   "metadata": {},
   "outputs": [
    {
     "name": "stdout",
     "output_type": "stream",
     "text": [
      "The percentage GC is 43.75\n"
     ]
    },
    {
     "data": {
      "text/plain": [
       "43.75"
      ]
     },
     "execution_count": 134,
     "metadata": {},
     "output_type": "execute_result"
    }
   ],
   "source": [
    "percentageGC(mydna)"
   ]
  },
  {
   "cell_type": "markdown",
   "metadata": {},
   "source": [
    "## QN11: Write a function the reads the file (humchr.txt) and writes to another file (gene_names.txt) a clean list of gene names."
   ]
  },
  {
   "cell_type": "code",
   "execution_count": 23,
   "metadata": {},
   "outputs": [],
   "source": [
    "import urllib.request"
   ]
  },
  {
   "cell_type": "code",
   "execution_count": 24,
   "metadata": {},
   "outputs": [
    {
     "data": {
      "text/plain": [
       "('../Data/humchrx.txt', <http.client.HTTPMessage at 0x7f32640b7050>)"
      ]
     },
     "execution_count": 24,
     "metadata": {},
     "output_type": "execute_result"
    }
   ],
   "source": [
    "import urllib.request\n",
    "\n",
    "url = \"https://www.uniprot.org/docs/humchrx.txt\"\n",
    "destination_filename = \"../Data/humchrx.txt\"\n",
    "urllib.request.urlretrieve(url, destination_filename)"
   ]
  },
  {
   "cell_type": "code",
   "execution_count": 18,
   "metadata": {},
   "outputs": [],
   "source": [
    "def write2file(gene_list, out_file):\n",
    "    \"\"\"\n",
    "    Takes a gene list and writes the output to file\n",
    "    \"\"\"\n",
    "    with open(out_file, 'w') as outfile:\n",
    "        outfile.write('\\n'.join(gene_list))\n",
    "\n",
    "def remove_empty(gene_list):\n",
    "    \"\"\"\n",
    "    Given a gene list, removes items\n",
    "    that start with dash (empty)\n",
    "    \"\"\"\n",
    "    tag = True\n",
    "    while tag:\n",
    "        try:\n",
    "            gene_list.remove('-')\n",
    "        except ValueError:\n",
    "            tag = False\n",
    "    return gene_list\n",
    "\n",
    "def clean_genes(input_file, out_file):\n",
    "    \"\"\"\n",
    "    Given a chromosome annotation file, extract the\n",
    "    genes and write them to another file\n",
    "    \"\"\"\n",
    "    gene_list = []\n",
    "    tag = False\n",
    "    with open(input_file, 'r') as humchrx:\n",
    "        for line in humchrx:\n",
    "            if line.startswith('Gene'):\n",
    "                tag=True\n",
    "            if line == '\\n':\n",
    "                tag = False\n",
    "            if tag:\n",
    "                gene_list.append(line.split()[0])\n",
    "    #clean the gene list\n",
    "    gene_list.pop(2)\n",
    "    gene_list[0] = gene_list[0]+\"_\"+gene_list[1]\n",
    "    gene_list.pop(1)\n",
    "   \n",
    "    gene_list = remove_empty(gene_list)\n",
    "   \n",
    "    ## Writing to file\n",
    "    write2file(gene_list, out_file)\n",
    "clean_genes('../Data/humchrx.txt', 'testing.txt')\n"
   ]
  },
  {
   "cell_type": "markdown",
   "metadata": {},
   "source": [
    "# QN12: Convert the function you wrote in exercise 1 into a python module. Then, import the module and use the function to read humchrx.txt file and create a gene list file.\n",
    "1. Convert the function you wrote in exercise 1 into a python module. Then, import the module and use the function to read humchrx.txt file and create a gene list file.\n",
    "2. Create a stand-alone script that does all the above."
   ]
  },
  {
   "cell_type": "code",
   "execution_count": null,
   "metadata": {},
   "outputs": [],
   "source": []
  },
  {
   "cell_type": "code",
   "execution_count": 19,
   "metadata": {},
   "outputs": [],
   "source": [
    "import write_to_file"
   ]
  },
  {
   "cell_type": "code",
   "execution_count": 125,
   "metadata": {},
   "outputs": [],
   "source": [
    "write_to_file.clean_genes('../Data/humchrx.txt', 'genes.txt')"
   ]
  },
  {
   "cell_type": "markdown",
   "metadata": {},
   "source": [
    "# QN13: Using the same concept, convert your script in exercise 1 to take command line arguments (input and output files)"
   ]
  },
  {
   "cell_type": "code",
   "execution_count": 151,
   "metadata": {},
   "outputs": [
    {
     "data": {
      "text/plain": [
       "'/home/eanbit7/Python4Bioinformatics2020/Notebooks'"
      ]
     },
     "execution_count": 151,
     "metadata": {},
     "output_type": "execute_result"
    }
   ],
   "source": [
    "pw"
   ]
  },
  {
   "cell_type": "code",
   "execution_count": 152,
   "metadata": {},
   "outputs": [
    {
     "name": "stdout",
     "output_type": "stream",
     "text": [
      "00.ipynb  05.ipynb  10.ipynb               genes.txt       write_to_file.py\n",
      "01.ipynb  06.ipynb  brendah.py             my_work .ipynb\n",
      "02.ipynb  07.ipynb  CalebAssignment.ipynb  out_file\n",
      "03.ipynb  08.ipynb  caller.py              \u001b[0m\u001b[01;34m__pycache__\u001b[0m/\n",
      "04.ipynb  09.ipynb  g_c.py                 testing.txt\n"
     ]
    }
   ],
   "source": [
    "ls"
   ]
  },
  {
   "cell_type": "code",
   "execution_count": 153,
   "metadata": {},
   "outputs": [
    {
     "name": "stdout",
     "output_type": "stream",
     "text": [
      "bye\n"
     ]
    }
   ],
   "source": [
    "import sys\n",
    "\n",
    "if len(sys.argv)!=3:\n",
    "    print(\"enter the script, inputfile and output file respectively\")\n",
    "    sys.exit()\n",
    "\n",
    "inputfile = sys.argv[1]\n",
    "outputfile = sys.argv[2]\n",
    "\n",
    "def write2file(gene_list, out_file):\n",
    "    \"\"\"\n",
    "    Takes a gene list and writes the output to file\n",
    "    \"\"\"\n",
    "    with open(\"/home/eanbit7/Python4Bioinformatics2020/Notebooks/out_file\", 'w') as out_file2:\n",
    "        out_file2.write('\\n'.join(gene_list))\n",
    "\n",
    "def remove_empty(gene_list):\n",
    "    \"\"\"\n",
    "    Given a gene list, removes items\n",
    "    that start with dash (empty)\n",
    "    \"\"\"\n",
    "    tag = True\n",
    "    while tag:\n",
    "        try:\n",
    "            gene_list.remove('-')\n",
    "        except ValueError:\n",
    "            tag = False\n",
    "    return gene_list\n",
    "\n",
    "def clean_genes(input_file, out_file2):\n",
    "    \"\"\"\n",
    "    Given a chromosome annotation file, extract the\n",
    "    genes and write them to another file\n",
    "    \"\"\"\n",
    "    gene_list = []\n",
    "    tag = False\n",
    "    with open(\"/home/eanbit7/Desktop/Python4Bioinformatics2019/Data/humchrx.txt\", 'r') as humchrx:\n",
    "        for line in humchrx:\n",
    "            if line.startswith('Gene'):\n",
    "                tag=True\n",
    "            if line == '\\n':\n",
    "                tag = False\n",
    "            if tag:\n",
    "                gene_list.append(line.split()[0])\n",
    "    #clean the gene list\n",
    "    gene_list.pop(2)\n",
    "    gene_list[0] = gene_list[0]+\"_\"+gene_list[1]\n",
    "    gene_list.pop(1)\n",
    "   \n",
    "    gene_list = remove_empty(gene_list)\n",
    "   \n",
    "    ## Writing to file\n",
    "    write2file(gene_list, out_file2)\n",
    "clean_genes('/home/eanbit7/Desktop/Python4Bioinformatics2019/Data/humchrx.txt', '/home/eanbit7/Python4Bioinformatics2020/Notebooks/testing.txt1')\n",
    "\n",
    "print('bye')"
   ]
  },
  {
   "cell_type": "code",
   "execution_count": 154,
   "metadata": {},
   "outputs": [
    {
     "name": "stdout",
     "output_type": "stream",
     "text": [
      "bye\n"
     ]
    }
   ],
   "source": [
    "import trial"
   ]
  },
  {
   "cell_type": "markdown",
   "metadata": {},
   "source": [
    "# QN14: Using a DNA sequence read from file, answer the following questions:\n",
    "1. Show that the DNA string contains only four letters.\n",
    "2. In the DNA string there are regions that have a repeating letter. What is the letter and length of the longest repeating region?\n",
    "3. How many ’ATG’s are in the DNA string?"
   ]
  },
  {
   "cell_type": "code",
   "execution_count": 11,
   "metadata": {},
   "outputs": [],
   "source": [
    "bases = 'ATGC'\n",
    "dna = 'AAAAATCCCGAGGCGGCTATATAGGGCTCCGGAGGCGTAATATAAAA'\n"
   ]
  },
  {
   "cell_type": "code",
   "execution_count": 12,
   "metadata": {},
   "outputs": [
    {
     "data": {
      "text/plain": [
       "{'A', 'C', 'G', 'T'}"
      ]
     },
     "execution_count": 12,
     "metadata": {},
     "output_type": "execute_result"
    }
   ],
   "source": [
    "def num_bases(sequence):\n",
    "    my_list = list(sequence)\n",
    "    set_dna = set(my_list)\n",
    "    return set_dna\n",
    "num_bases(dna)"
   ]
  },
  {
   "cell_type": "code",
   "execution_count": null,
   "metadata": {},
   "outputs": [],
   "source": [
    "def count_ATG(dna):\n",
    "    if dna.find('ATG')== -1:\n",
    "        return 'Pattern not found'\n",
    "    else:\n",
    "        return dna.count('ATG')"
   ]
  },
  {
   "cell_type": "code",
   "execution_count": 132,
   "metadata": {},
   "outputs": [
    {
     "data": {
      "text/plain": [
       "2"
      ]
     },
     "execution_count": 132,
     "metadata": {},
     "output_type": "execute_result"
    }
   ],
   "source": [
    "count_ATG(mydna)\n",
    "\n",
    "    "
   ]
  },
  {
   "cell_type": "code",
   "execution_count": 135,
   "metadata": {},
   "outputs": [
    {
     "ename": "KeyboardInterrupt",
     "evalue": "Interrupted by user",
     "output_type": "error",
     "traceback": [
      "\u001b[0;31m---------------------------------------------------------------------------\u001b[0m",
      "\u001b[0;31mKeyboardInterrupt\u001b[0m                         Traceback (most recent call last)",
      "\u001b[0;32m<ipython-input-135-163dd29140de>\u001b[0m in \u001b[0;36m<module>\u001b[0;34m()\u001b[0m\n\u001b[1;32m     20\u001b[0m     \u001b[0mprint\u001b[0m\u001b[0;34m(\u001b[0m\u001b[0;34m'%s is the longest repeating letter, repeat %d times'\u001b[0m \u001b[0;34m%\u001b[0m\u001b[0;34m(\u001b[0m\u001b[0mA_list\u001b[0m\u001b[0;34m[\u001b[0m\u001b[0mlong_index\u001b[0m\u001b[0;34m]\u001b[0m\u001b[0;34m[\u001b[0m\u001b[0;36m0\u001b[0m\u001b[0;34m]\u001b[0m\u001b[0;34m,\u001b[0m \u001b[0mlen\u001b[0m\u001b[0;34m(\u001b[0m\u001b[0mA_list\u001b[0m\u001b[0;34m[\u001b[0m\u001b[0mlong_index\u001b[0m\u001b[0;34m]\u001b[0m\u001b[0;34m)\u001b[0m\u001b[0;34m)\u001b[0m\u001b[0;34m)\u001b[0m\u001b[0;34m\u001b[0m\u001b[0;34m\u001b[0m\u001b[0m\n\u001b[1;32m     21\u001b[0m \u001b[0;34m\u001b[0m\u001b[0m\n\u001b[0;32m---> 22\u001b[0;31m \u001b[0mlongest_repeating_nucleotide\u001b[0m\u001b[0;34m(\u001b[0m\u001b[0;34m)\u001b[0m\u001b[0;34m\u001b[0m\u001b[0;34m\u001b[0m\u001b[0m\n\u001b[0m",
      "\u001b[0;32m<ipython-input-135-163dd29140de>\u001b[0m in \u001b[0;36mlongest_repeating_nucleotide\u001b[0;34m()\u001b[0m\n\u001b[1;32m      1\u001b[0m \u001b[0mcd\u001b[0m\u001b[0;34m=\u001b[0m\u001b[0;34m'AAAGGGCTTAGCTTAATTAAAGTGGCTGATTTGCCCCCGTTCAGTTGATTTGCAGAGTGGGGTTTTGCAGTCCTTA'\u001b[0m\u001b[0;34m\u001b[0m\u001b[0;34m\u001b[0m\u001b[0m\n\u001b[1;32m      2\u001b[0m \u001b[0;32mdef\u001b[0m \u001b[0mlongest_repeating_nucleotide\u001b[0m\u001b[0;34m(\u001b[0m\u001b[0;34m)\u001b[0m\u001b[0;34m:\u001b[0m\u001b[0;34m\u001b[0m\u001b[0;34m\u001b[0m\u001b[0m\n\u001b[0;32m----> 3\u001b[0;31m     \u001b[0mdna_seq\u001b[0m \u001b[0;34m=\u001b[0m \u001b[0minput\u001b[0m\u001b[0;34m(\u001b[0m\u001b[0;34m'please enter the DNA sequence'\u001b[0m\u001b[0;34m)\u001b[0m\u001b[0;34m\u001b[0m\u001b[0;34m\u001b[0m\u001b[0m\n\u001b[0m\u001b[1;32m      4\u001b[0m     \u001b[0mA_list\u001b[0m \u001b[0;34m=\u001b[0m \u001b[0;34m[\u001b[0m\u001b[0;34m]\u001b[0m \u001b[0;31m# initialize an empty list to store repeating nucleotides\u001b[0m\u001b[0;34m\u001b[0m\u001b[0;34m\u001b[0m\u001b[0m\n\u001b[1;32m      5\u001b[0m     \u001b[0mtag\u001b[0m \u001b[0;34m=\u001b[0m \u001b[0;32mFalse\u001b[0m\u001b[0;34m\u001b[0m\u001b[0;34m\u001b[0m\u001b[0m\n",
      "\u001b[0;32m/home/eanbit7/miniconda3/envs/bioinf/lib/python3.7/site-packages/ipykernel/kernelbase.py\u001b[0m in \u001b[0;36mraw_input\u001b[0;34m(self, prompt)\u001b[0m\n\u001b[1;32m    861\u001b[0m             \u001b[0mself\u001b[0m\u001b[0;34m.\u001b[0m\u001b[0m_parent_ident\u001b[0m\u001b[0;34m,\u001b[0m\u001b[0;34m\u001b[0m\u001b[0;34m\u001b[0m\u001b[0m\n\u001b[1;32m    862\u001b[0m             \u001b[0mself\u001b[0m\u001b[0;34m.\u001b[0m\u001b[0m_parent_header\u001b[0m\u001b[0;34m,\u001b[0m\u001b[0;34m\u001b[0m\u001b[0;34m\u001b[0m\u001b[0m\n\u001b[0;32m--> 863\u001b[0;31m             \u001b[0mpassword\u001b[0m\u001b[0;34m=\u001b[0m\u001b[0;32mFalse\u001b[0m\u001b[0;34m,\u001b[0m\u001b[0;34m\u001b[0m\u001b[0;34m\u001b[0m\u001b[0m\n\u001b[0m\u001b[1;32m    864\u001b[0m         )\n\u001b[1;32m    865\u001b[0m \u001b[0;34m\u001b[0m\u001b[0m\n",
      "\u001b[0;32m/home/eanbit7/miniconda3/envs/bioinf/lib/python3.7/site-packages/ipykernel/kernelbase.py\u001b[0m in \u001b[0;36m_input_request\u001b[0;34m(self, prompt, ident, parent, password)\u001b[0m\n\u001b[1;32m    902\u001b[0m             \u001b[0;32mexcept\u001b[0m \u001b[0mKeyboardInterrupt\u001b[0m\u001b[0;34m:\u001b[0m\u001b[0;34m\u001b[0m\u001b[0;34m\u001b[0m\u001b[0m\n\u001b[1;32m    903\u001b[0m                 \u001b[0;31m# re-raise KeyboardInterrupt, to truncate traceback\u001b[0m\u001b[0;34m\u001b[0m\u001b[0;34m\u001b[0m\u001b[0;34m\u001b[0m\u001b[0m\n\u001b[0;32m--> 904\u001b[0;31m                 \u001b[0;32mraise\u001b[0m \u001b[0mKeyboardInterrupt\u001b[0m\u001b[0;34m(\u001b[0m\u001b[0;34m\"Interrupted by user\"\u001b[0m\u001b[0;34m)\u001b[0m \u001b[0;32mfrom\u001b[0m \u001b[0;32mNone\u001b[0m\u001b[0;34m\u001b[0m\u001b[0;34m\u001b[0m\u001b[0m\n\u001b[0m\u001b[1;32m    905\u001b[0m             \u001b[0;32mexcept\u001b[0m \u001b[0mException\u001b[0m \u001b[0;32mas\u001b[0m \u001b[0me\u001b[0m\u001b[0;34m:\u001b[0m\u001b[0;34m\u001b[0m\u001b[0;34m\u001b[0m\u001b[0m\n\u001b[1;32m    906\u001b[0m                 \u001b[0mself\u001b[0m\u001b[0;34m.\u001b[0m\u001b[0mlog\u001b[0m\u001b[0;34m.\u001b[0m\u001b[0mwarning\u001b[0m\u001b[0;34m(\u001b[0m\u001b[0;34m\"Invalid Message:\"\u001b[0m\u001b[0;34m,\u001b[0m \u001b[0mexc_info\u001b[0m\u001b[0;34m=\u001b[0m\u001b[0;32mTrue\u001b[0m\u001b[0;34m)\u001b[0m\u001b[0;34m\u001b[0m\u001b[0;34m\u001b[0m\u001b[0m\n",
      "\u001b[0;31mKeyboardInterrupt\u001b[0m: Interrupted by user"
     ]
    }
   ],
   "source": [
    "cd='AAAGGGCTTAGCTTAATTAAAGTGGCTGATTTGCCCCCGTTCAGTTGATTTGCAGAGTGGGGTTTTGCAGTCCTTA'\n",
    "def longest_repeating_nucleotide():\n",
    "    dna_seq = input('please enter the DNA sequence')\n",
    "    A_list = [] # initialize an empty list to store repeating nucleotides\n",
    "    tag = False\n",
    "    As = [] # initialize an empty list to store repeating nucleotides that will be appended to initialized A_list above\n",
    "    for nuc in dna_seq:\n",
    "        for dna in dna_seq:\n",
    "            if dna == nuc:\n",
    "                tag = True\n",
    "                As.append(dna)\n",
    "            else:\n",
    "                if len(As) > 1:\n",
    "                    A_list.append(As)\n",
    "                As = []\n",
    "                tag = False\n",
    "    len_list = [len(x) for x in A_list]\n",
    "    long_index = len_list.index(max(len_list))\n",
    "    print('*'*100)\n",
    "    print('%s is the longest repeating letter, repeat %d times' %(A_list[long_index][0], len(A_list[long_index])))\n",
    "    \n",
    "longest_repeating_nucleotide()"
   ]
  },
  {
   "cell_type": "code",
   "execution_count": null,
   "metadata": {},
   "outputs": [],
   "source": []
  }
 ],
 "metadata": {
  "kernelspec": {
   "display_name": "Python 3",
   "language": "python",
   "name": "python3"
  },
  "language_info": {
   "codemirror_mode": {
    "name": "ipython",
    "version": 3
   },
   "file_extension": ".py",
   "mimetype": "text/x-python",
   "name": "python",
   "nbconvert_exporter": "python",
   "pygments_lexer": "ipython3",
   "version": "3.7.8"
  }
 },
 "nbformat": 4,
 "nbformat_minor": 4
}
